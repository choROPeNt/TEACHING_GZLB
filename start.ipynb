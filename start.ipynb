{
 "cells": [
  {
   "cell_type": "markdown",
   "metadata": {},
   "source": [
    "# Grundzüge des Leichtbaus \n",
    "## Übung Elastizitäts- und Festigkeitslehre\n",
    "* [Aufgabe 1](lection_01/lection_01.ipynb)\n",
    "* [Aufgabe 2](lection_02/lection_02.ipynb)"
   ]
  },
  {
   "cell_type": "code",
   "execution_count": 3,
   "metadata": {},
   "outputs": [
    {
     "data": {
      "text/html": [
       "<iframe src=\"https://videocampus.sachsen.de/media/embed?key=3fefee385d3297c29504f224d6748179&width=720&height=511&autoplay=false&autolightsoff=false&loop=false&chapters=false&related=false&responsive=false&t=0\" data-src=\"\" class=\"iframeLoaded\" width=\"720\" height=\"511\" frameborder=\"0\" allowfullscreen=\"allowfullscreen\" allowtransparency=\"true\" scrolling=\"no\"></iframe>\n"
      ],
      "text/plain": [
       "<IPython.core.display.HTML object>"
      ]
     },
     "metadata": {},
     "output_type": "display_data"
    }
   ],
   "source": [
    "%%html\n",
    "<iframe src=\"https://videocampus.sachsen.de/media/embed?key=3fefee385d3297c29504f224d6748179&width=720&height=511&autoplay=false&autolightsoff=false&loop=false&chapters=false&related=false&responsive=false&t=0\" data-src=\"\" class=\"iframeLoaded\" width=\"720\" height=\"511\" frameborder=\"0\" allowfullscreen=\"allowfullscreen\" allowtransparency=\"true\" scrolling=\"no\"></iframe>"
   ]
  },
  {
   "cell_type": "code",
   "execution_count": null,
   "metadata": {},
   "outputs": [],
   "source": []
  },
  {
   "cell_type": "code",
   "execution_count": null,
   "metadata": {},
   "outputs": [],
   "source": []
  }
 ],
 "metadata": {
  "interpreter": {
   "hash": "31f2aee4e71d21fbe5cf8b01ff0e069b9275f58929596ceb00d14d90e3e16cd6"
  },
  "kernelspec": {
   "display_name": "Python 3",
   "language": "python",
   "name": "python3"
  },
  "language_info": {
   "codemirror_mode": {
    "name": "ipython",
    "version": 3
   },
   "file_extension": ".py",
   "mimetype": "text/x-python",
   "name": "python",
   "nbconvert_exporter": "python",
   "pygments_lexer": "ipython3",
   "version": "3.8.5"
  }
 },
 "nbformat": 4,
 "nbformat_minor": 4
}
