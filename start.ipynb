{
 "cells": [
  {
   "cell_type": "markdown",
   "metadata": {},
   "source": [
    "# DAAD COMPOLL \n",
    "\n",
    "## Introduction\n",
    "\n",
    "Start the following ```cell``` by clicking on it and either press ```SHIFT```+```ENTER``` or click on the ```Run```-button"
   ]
  },
  {
   "cell_type": "code",
   "execution_count": 1,
   "metadata": {},
   "outputs": [
    {
     "data": {
      "text/html": [
       "<iframe src=\"https://videocampus.sachsen.de/media/embed?key=3fefee385d3297c29504f224d6748179&width=720&height=511&autoplay=false&autolightsoff=false&loop=false&chapters=false&related=false&responsive=false&t=0\" data-src=\"\" class=\"iframeLoaded\" width=\"720\" height=\"511\" frameborder=\"0\" allowfullscreen=\"allowfullscreen\" allowtransparency=\"true\" scrolling=\"no\"></iframe>\n"
      ],
      "text/plain": [
       "<IPython.core.display.HTML object>"
      ]
     },
     "metadata": {},
     "output_type": "display_data"
    }
   ],
   "source": [
    "%%html\n",
    "<iframe src=\"https://videocampus.sachsen.de/media/embed?key=3fefee385d3297c29504f224d6748179&width=720&height=511&autoplay=false&autolightsoff=false&loop=false&chapters=false&related=false&responsive=false&t=0\" data-src=\"\" class=\"iframeLoaded\" width=\"720\" height=\"511\" frameborder=\"0\" allowfullscreen=\"allowfullscreen\" allowtransparency=\"true\" scrolling=\"no\"></iframe>"
   ]
  },
  {
   "cell_type": "markdown",
   "metadata": {},
   "source": [
    "## Weekly Tasks\n",
    "\n",
    "* [Week 0: Data Exploration](lection_00/lection_00.ipynb)\n",
    "* [Week 1: Engineering](lection_01/lection_01.ipynb)\n",
    "* [Week 2: Assessment](lection_02/lection_02.ipynb)"
   ]
  }
 ],
 "metadata": {
  "interpreter": {
   "hash": "31f2aee4e71d21fbe5cf8b01ff0e069b9275f58929596ceb00d14d90e3e16cd6"
  },
  "kernelspec": {
   "display_name": "Python 3",
   "language": "python",
   "name": "python3"
  },
  "language_info": {
   "codemirror_mode": {
    "name": "ipython",
    "version": 3
   },
   "file_extension": ".py",
   "mimetype": "text/x-python",
   "name": "python",
   "nbconvert_exporter": "python",
   "pygments_lexer": "ipython3",
   "version": "3.8.5"
  }
 },
 "nbformat": 4,
 "nbformat_minor": 4
}
