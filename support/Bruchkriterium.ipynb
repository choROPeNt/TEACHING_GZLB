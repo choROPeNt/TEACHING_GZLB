{
 "cells": [
  {
   "cell_type": "code",
   "execution_count": 32,
   "id": "a9ab8330",
   "metadata": {},
   "outputs": [],
   "source": [
    "import numpy as np\n",
    "import matplotlib.pyplot as plt"
   ]
  },
  {
   "cell_type": "markdown",
   "id": "52a8e3a7",
   "metadata": {},
   "source": [
    "#### Initialisierung der Festigkeitsparameter: R_2(+) Zugfestigkeit, R_2(-) Druckfestigkeit und R12 (Schubfestigkeit):  "
   ]
  },
  {
   "cell_type": "code",
   "execution_count": 33,
   "id": "d044ad67",
   "metadata": {},
   "outputs": [],
   "source": [
    "R2P = 25\n",
    "R2M = 130\n",
    "R12 = 45"
   ]
  },
  {
   "cell_type": "markdown",
   "id": "04082d10",
   "metadata": {},
   "source": [
    "#### Initialisierung der Interaktionsparameter: p12(+) und p12(-):"
   ]
  },
  {
   "cell_type": "code",
   "execution_count": 34,
   "id": "d3dcf5de",
   "metadata": {},
   "outputs": [],
   "source": [
    "P12P = P12M = 0.3"
   ]
  },
  {
   "cell_type": "markdown",
   "id": "5c29c607",
   "metadata": {},
   "source": [
    "### Bruchmodus A:  "
   ]
  },
  {
   "cell_type": "markdown",
   "id": "6e2e15fb",
   "metadata": {},
   "source": [
    "$$\n",
    "\\sqrt{\\left(\\frac{\\tau_{12}}{R_{12}}\\right)^{2}+\\left(1-p_{12}^{+} \\frac{R_{2}^{+}}{R_{12}}\\right)^{2} \\cdot\\left(\\frac{\\sigma_{2}}{R_{2}^{+}}\\right)^{2}}+p_{12}^{+} \\cdot \\frac{\\sigma_{2}}{R_{12}}=1\n",
    "$$"
   ]
  },
  {
   "cell_type": "markdown",
   "id": "2748ffcc",
   "metadata": {},
   "source": [
    "#### Initialisiere x-Achsenabschnitt für Bruchmodus A:"
   ]
  },
  {
   "cell_type": "code",
   "execution_count": 35,
   "id": "272ad0ab",
   "metadata": {},
   "outputs": [],
   "source": [
    "x1 = np.linspace(0, R2P, 100)"
   ]
  },
  {
   "cell_type": "markdown",
   "id": "65f09508",
   "metadata": {},
   "source": [
    "#### Berechne Bruchmodus A:"
   ]
  },
  {
   "cell_type": "code",
   "execution_count": 36,
   "id": "ee431e2d",
   "metadata": {},
   "outputs": [],
   "source": [
    "y1 = R12 * np.sqrt((1 - P12P * x1 / R12)**2 - (1 - P12P * R2P / R12)**2 * (x1 / R2P)**2)"
   ]
  },
  {
   "cell_type": "markdown",
   "id": "9c0fb421",
   "metadata": {},
   "source": [
    "### Bruchmodus B:  "
   ]
  },
  {
   "cell_type": "markdown",
   "id": "261ec220",
   "metadata": {},
   "source": [
    "$$\n",
    "\\frac{1}{R_{12}} \\left (\\sqrt{\\tau_{12}{ }^{2}+\\left(p_{12}^{-} \\cdot \\sigma_{2}\\right)^{2}}+p_{12}^{-} \\cdot \\sigma_{2} \\right )=1\n",
    "$$"
   ]
  },
  {
   "cell_type": "markdown",
   "id": "d87aba5f",
   "metadata": {},
   "source": [
    "#### Initialisiere x-Achsenabschnitt für Bruchmodus B:"
   ]
  },
  {
   "cell_type": "code",
   "execution_count": 37,
   "id": "04521b54",
   "metadata": {},
   "outputs": [],
   "source": [
    "x2 = np.linspace(-R12, 0, 100)"
   ]
  },
  {
   "cell_type": "markdown",
   "id": "8f8ea5aa",
   "metadata": {},
   "source": [
    "#### Berechne Bruchmodus B:"
   ]
  },
  {
   "cell_type": "code",
   "execution_count": 38,
   "id": "bd1862fe",
   "metadata": {},
   "outputs": [],
   "source": [
    "y2 = (R12 * np.sqrt(1 - (2 * P12M * x2) / R12))"
   ]
  },
  {
   "cell_type": "markdown",
   "id": "13b6b3ef",
   "metadata": {},
   "source": [
    "### Bruchmodus C:  "
   ]
  },
  {
   "cell_type": "markdown",
   "id": "f25b4b49",
   "metadata": {},
   "source": [
    "$$ \\left [ \\left ( \\frac{\\tau_{21}}{2 \\left (1 + p_{21}^{-} \\right )R_{21}} \\right )^2 + \\left ( \\frac {\\sigma_{2}}{R_{2}^{-}} \\right )^2 \\right ] \\frac{R_{2}^{-}}{\\left ( -\\sigma_{2}\\right )} = 1 $$"
   ]
  },
  {
   "cell_type": "markdown",
   "id": "2e6d1391",
   "metadata": {},
   "source": [
    "#### Initialisiere x-Achsenabschnitt für Bruchmodus C:"
   ]
  },
  {
   "cell_type": "code",
   "execution_count": 39,
   "id": "bee3d232",
   "metadata": {},
   "outputs": [],
   "source": [
    "x3 = np.linspace(-R2M, -R12, 100)"
   ]
  },
  {
   "cell_type": "markdown",
   "id": "5e43ba50",
   "metadata": {},
   "source": [
    "#### Berechne Bruchmodus C:"
   ]
  },
  {
   "cell_type": "code",
   "execution_count": 40,
   "id": "5f4fd680",
   "metadata": {},
   "outputs": [],
   "source": [
    "y3 = (2 * R12 * (1 + P12M) * np.sqrt(-x3 / R2M -(x3 / R2M)**2 ))"
   ]
  },
  {
   "cell_type": "markdown",
   "id": "07541a3f",
   "metadata": {},
   "source": [
    "#### Erstelle Plots:"
   ]
  },
  {
   "cell_type": "code",
   "execution_count": 86,
   "id": "a5d07050",
   "metadata": {},
   "outputs": [
    {
     "data": {
      "text/plain": [
       "[<matplotlib.lines.Line2D at 0x120dce5b0>]"
      ]
     },
     "execution_count": 86,
     "metadata": {},
     "output_type": "execute_result"
    },
    {
     "data": {
      "image/png": "[encoded data removed]",
      "text/plain": [
       "<Figure size 432x288 with 1 Axes>"
      ]
     },
     "metadata": {
      "needs_background": "light"
     },
     "output_type": "display_data"
    }
   ],
   "source": [
    "plt.plot(x1,y1)\n",
    "plt.plot(x2,y2)\n",
    "plt.plot(x3,y3)"
   ]
  },
  {
   "cell_type": "code",
   "execution_count": 138,
   "id": "616b571e-638a-4250-8e6d-18b8d550ea13",
   "metadata": {},
   "outputs": [
    {
     "data": {
      "application/vnd.plotly.v1+json": {
       "config": {
        "plotlyServerURL": "https://plot.ly"
       },
       "data": [
        {
         "hovertemplate": "x=%{x}<br>y=%{y}<extra></extra>",
         "legendgroup": "",
         "line": {
          "color": "#636efa",
          "dash": "solid"
         },
         "marker": {
          "symbol": "circle"
         },
         "mode": "lines",
         "name": "",
         "orientation": "v",
         "showlegend": false,
         "type": "scatter",
         "x": [
          -130,
          -129.14141414141415,
          -128.2828282828283,
          -127.42424242424242,
          -126.56565656565657,
          -125.70707070707071,
          -124.84848484848484,
          -123.98989898989899,
          -123.13131313131314,
          -122.27272727272728,
          -121.41414141414141,
          -120.55555555555556,
          -119.6969696969697,
          -118.83838383838383,
          -117.97979797979798,
          -117.12121212121212,
          -116.26262626262627,
          -115.4040404040404,
          -114.54545454545455,
          -113.68686868686869,
          -112.82828282828282,
          -111.96969696969697,
          -111.11111111111111,
          -110.25252525252526,
          -109.39393939393939,
          -108.53535353535354,
          -107.67676767676768,
          -106.81818181818181,
          -105.95959595959596,
          -105.1010101010101,
          -104.24242424242425,
          -103.38383838383838,
          -102.52525252525253,
          -101.66666666666667,
          -100.8080808080808,
          -99.94949494949495,
          -99.0909090909091,
          -98.23232323232324,
          -97.37373737373738,
          -96.51515151515152,
          -95.65656565656566,
          -94.79797979797979,
          -93.93939393939394,
          -93.08080808080808,
          -92.22222222222223,
          -91.36363636363637,
          -90.5050505050505,
          -89.64646464646465,
          -88.78787878787878,
          -87.92929292929293,
          -87.07070707070707,
          -86.21212121212122,
          -85.35353535353536,
          -84.4949494949495,
          -83.63636363636364,
          -82.77777777777777,
          -81.91919191919192,
          -81.06060606060606,
          -80.20202020202021,
          -79.34343434343435,
          -78.48484848484848,
          -77.62626262626263,
          -76.76767676767676,
          -75.9090909090909,
          -75.05050505050505,
          -74.1919191919192,
          -73.33333333333334,
          -72.47474747474747,
          -71.61616161616162,
          -70.75757575757575,
          -69.8989898989899,
          -69.04040404040404,
          -68.18181818181819,
          -67.32323232323233,
          -66.46464646464646,
          -65.60606060606061,
          -64.74747474747475,
          -63.888888888888886,
          -63.03030303030303,
          -62.17171717171718,
          -61.31313131313132,
          -60.45454545454545,
          -59.5959595959596,
          -58.737373737373744,
          -57.878787878787875,
          -57.02020202020202,
          -56.161616161616166,
          -55.30303030303031,
          -54.44444444444444,
          -53.58585858585859,
          -52.727272727272734,
          -51.868686868686865,
          -51.01010101010101,
          -50.151515151515156,
          -49.2929292929293,
          -48.43434343434343,
          -47.57575757575758,
          -46.71717171717172,
          -45.858585858585855,
          -45,
          -45,
          -44.54545454545455,
          -44.09090909090909,
          -43.63636363636363,
          -43.18181818181818,
          -42.72727272727273,
          -42.27272727272727,
          -41.81818181818182,
          -41.36363636363637,
          -40.90909090909091,
          -40.45454545454545,
          -40,
          -39.54545454545455,
          -39.09090909090909,
          -38.63636363636364,
          -38.18181818181818,
          -37.72727272727273,
          -37.27272727272727,
          -36.81818181818182,
          -36.36363636363636,
          -35.90909090909091,
          -35.45454545454545,
          -35,
          -34.54545454545455,
          -34.09090909090909,
          -33.63636363636364,
          -33.18181818181818,
          -32.72727272727273,
          -32.27272727272727,
          -31.81818181818182,
          -31.363636363636363,
          -30.90909090909091,
          -30.454545454545453,
          -30,
          -29.545454545454547,
          -29.090909090909093,
          -28.636363636363637,
          -28.181818181818183,
          -27.727272727272727,
          -27.272727272727273,
          -26.81818181818182,
          -26.363636363636363,
          -25.90909090909091,
          -25.454545454545457,
          -25,
          -24.545454545454547,
          -24.09090909090909,
          -23.636363636363637,
          -23.181818181818183,
          -22.727272727272727,
          -22.272727272727273,
          -21.81818181818182,
          -21.363636363636363,
          -20.90909090909091,
          -20.454545454545457,
          -20,
          -19.545454545454547,
          -19.090909090909093,
          -18.636363636363637,
          -18.181818181818183,
          -17.727272727272727,
          -17.272727272727273,
          -16.81818181818182,
          -16.363636363636363,
          -15.90909090909091,
          -15.454545454545457,
          -15,
          -14.545454545454547,
          -14.090909090909093,
          -13.636363636363637,
          -13.181818181818183,
          -12.727272727272727,
          -12.272727272727273,
          -11.81818181818182,
          -11.363636363636367,
          -10.909090909090914,
          -10.454545454545453,
          -10,
          -9.545454545454547,
          -9.090909090909093,
          -8.63636363636364,
          -8.18181818181818,
          -7.727272727272727,
          -7.272727272727273,
          -6.81818181818182,
          -6.363636363636367,
          -5.909090909090914,
          -5.454545454545453,
          -5,
          -4.545454545454547,
          -4.0909090909090935,
          -3.6363636363636402,
          -3.18181818181818,
          -2.7272727272727266,
          -2.2727272727272734,
          -1.8181818181818201,
          -1.3636363636363669,
          -0.9090909090909136,
          -0.45454545454545325,
          0,
          0,
          0.25252525252525254,
          0.5050505050505051,
          0.7575757575757576,
          1.0101010101010102,
          1.2626262626262628,
          1.5151515151515151,
          1.7676767676767677,
          2.0202020202020203,
          2.272727272727273,
          2.5252525252525255,
          2.777777777777778,
          3.0303030303030303,
          3.282828282828283,
          3.5353535353535355,
          3.787878787878788,
          4.040404040404041,
          4.292929292929293,
          4.545454545454546,
          4.7979797979797985,
          5.050505050505051,
          5.303030303030304,
          5.555555555555556,
          5.808080808080809,
          6.0606060606060606,
          6.313131313131313,
          6.565656565656566,
          6.818181818181818,
          7.070707070707071,
          7.3232323232323235,
          7.575757575757576,
          7.828282828282829,
          8.080808080808081,
          8.333333333333334,
          8.585858585858587,
          8.83838383838384,
          9.090909090909092,
          9.343434343434344,
          9.595959595959597,
          9.84848484848485,
          10.101010101010102,
          10.353535353535355,
          10.606060606060607,
          10.85858585858586,
          11.111111111111112,
          11.363636363636365,
          11.616161616161618,
          11.86868686868687,
          12.121212121212121,
          12.373737373737374,
          12.626262626262626,
          12.878787878787879,
          13.131313131313131,
          13.383838383838384,
          13.636363636363637,
          13.88888888888889,
          14.141414141414142,
          14.393939393939394,
          14.646464646464647,
          14.8989898989899,
          15.151515151515152,
          15.404040404040405,
          15.656565656565657,
          15.90909090909091,
          16.161616161616163,
          16.414141414141415,
          16.666666666666668,
          16.91919191919192,
          17.171717171717173,
          17.424242424242426,
          17.67676767676768,
          17.92929292929293,
          18.181818181818183,
          18.434343434343436,
          18.68686868686869,
          18.93939393939394,
          19.191919191919194,
          19.444444444444446,
          19.6969696969697,
          19.94949494949495,
          20.202020202020204,
          20.454545454545457,
          20.70707070707071,
          20.959595959595962,
          21.212121212121215,
          21.464646464646467,
          21.71717171717172,
          21.969696969696972,
          22.222222222222225,
          22.474747474747478,
          22.72727272727273,
          22.979797979797983,
          23.232323232323235,
          23.484848484848488,
          23.73737373737374,
          23.989898989898993,
          24.242424242424242,
          24.494949494949495,
          24.747474747474747,
          25
         ],
         "xaxis": "x",
         "y": [
          0,
          9.476918458606383,
          13.357759994329706,
          16.30500861039711,
          18.763865396769905,
          20.907361588565895,
          22.824519221353825,
          24.568381548258856,
          26.17360982439507,
          27.664347375321885,
          29.0582202705062,
          30.368569278120415,
          31.605784594512286,
          32.77814858702956,
          33.89239169601392,
          34.95407258221342,
          35.96784606302165,
          36.93765688112564,
          37.8668829776928,
          38.75844349491812,
          39.61488158476819,
          40.43842886321895,
          41.2310562561766,
          41.99451459653209,
          42.73036739276486,
          43.44001754105241,
          44.124729297041476,
          44.785646497861386,
          45.42380778897326,
          46.04015943707988,
          46.63556618137975,
          47.2108204784447,
          47.76665042225573,
          48.303726564313855,
          48.822667814878606,
          49.32404657211262,
          49.80839319891629,
          50.27619994581666,
          50.72792440115784,
          51.1639925360737,
          51.58480140057913,
          51.99072151804533,
          52.382099017896,
          52.759257540249244,
          53.12249994117371,
          53.47210982302474,
          53.808352910818655,
          54.13147829266037,
          54.44171953976363,
          54.7392957195082,
          55.0244123132017,
          55.29726204870043,
          55.558025656749464,
          55.80687255879322,
          56.04396149305214,
          56.26944108483752,
          56.483450366361794,
          56.686119250681465,
          56.87756896386895,
          57.05791243903712,
          57.22725467542499,
          57.385693065389056,
          57.533317691821836,
          57.67021159823435,
          57.796451033485745,
          57.91210567291673,
          58.01723881744115,
          58.111907571967485,
          58.19616300435753,
          58.27005028597949,
          58.33360881477652,
          58.38687232164549,
          58.42986896080514,
          58.46262138472371,
          58.48514680407509,
          58.49745703309541,
          58.49955852061995,
          58.4914523669912,
          58.47313432694137,
          58.44459479846725,
          58.405818797629124,
          58.35678591911927,
          58.29747028235714,
          58.22784046277758,
          58.14785940788369,
          58.05748433753658,
          57.95666662784852,
          57.84535167793348,
          57.723478758647246,
          57.590980842317364,
          57.44778441231914,
          57.29380925119569,
          57.128968205845126,
          56.953166928104146,
          56.766303588841296,
          56.568268563431054,
          56.35894408620869,
          56.13820387119896,
          55.9059126960661,
          55.66192594583842,
          56.92099788303083,
          56.81309068099774,
          56.704978136443586,
          56.59665907261504,
          56.488132301476305,
          56.37939662355712,
          56.27045082779804,
          56.16129369139309,
          56.051923979629656,
          55.94234044572549,
          55.83254183066293,
          55.72252686302013,
          55.612294258799224,
          55.50184272125157,
          55.39117094069973,
          55.28027759435629,
          55.16916134613941,
          55.05782084648498,
          54.9462547321554,
          54.83446162604481,
          54.722440136980865,
          54.61018885952261,
          54.49770637375485,
          54.38499124507857,
          54.27204202399745,
          54.1588572459004,
          54.04543543083996,
          53.93177508330654,
          53.81787469199835,
          53.70373272958695,
          53.58934765247831,
          53.47471790056919,
          53.35984189699897,
          53.24471804789654,
          53.12934474212225,
          53.01372035100485,
          52.897843228073285,
          52.78171170878311,
          52.665324110237506,
          52.5486787309028,
          52.43177385031817,
          52.31460772879963,
          52.19717860713789,
          52.079484706290316,
          51.96152422706631,
          51.84329534980654,
          51.72479623405535,
          51.60602501822649,
          51.48697981926198,
          51.367658732283715,
          51.24805983023783,
          51.128181163531615,
          51.00802075966271,
          50.88757662284041,
          50.76684673359896,
          50.6458290484024,
          50.52452149924107,
          50.40292199321926,
          50.28102841213392,
          50.15883861204414,
          50.03635042283124,
          49.91356164774896,
          49.79047006296395,
          49.66707341708571,
          49.54336943068623,
          49.419355795808656,
          49.295030175464944,
          49.17039020312196,
          49.045433482175945,
          48.920157585414806,
          48.794560054468064,
          48.66863839924396,
          48.54239009735343,
          48.41581259352061,
          48.288903298979385,
          48.16165959085562,
          48.0340788115347,
          47.90615826801394,
          47.777895231239235,
          47.649286935425856,
          47.52033057736256,
          47.391023315698625,
          47.26136227021354,
          47.131344521068314,
          47.00096710803842,
          46.87022702972733,
          46.73912124276038,
          46.60764666095819,
          46.475800154489,
          46.34357854899935,
          46.21097862472235,
          46.07799711556285,
          45.944630708158826,
          45.810876040918096,
          45.6767297030297,
          45.54218823344909,
          45.40724811985617,
          45.2719057975855,
          45.136157648527494,
          45,
          45,
          44.92264548237321,
          44.84208594809466,
          44.758304091240625,
          44.671281781229,
          44.58100004192696,
          44.48743902951662,
          44.39057800905459,
          44.290395329656974,
          44.18686839823541,
          44.07997365170476,
          43.9696865275764,
          43.85598143284467,
          43.73883171106695,
          43.61820960752964,
          43.49408623238431,
          43.366431521628684,
          43.23521419579732,
          43.10040171621575,
          42.96196023866007,
          42.8198545642507,
          42.674048087394866,
          42.52450274057691,
          42.371178935777955,
          42.21403550228797,
          42.053029620652566,
          41.88811675247373,
          41.71925056575915,
          41.546382855486414,
          41.36946345901833,
          41.188440165971144,
          41.00325862210044,
          40.813862226727075,
          40.6201920231798,
          40.42218658167909,
          40.21978187402923,
          40.012911139421476,
          39.801504740578906,
          39.58549000939291,
          39.364791081110845,
          39.139328716031876,
          38.90902010755382,
          38.67377867528325,
          38.4335138417748,
          38.18813079129867,
          37.937530208846056,
          37.681607997366804,
          37.42025497098682,
          37.15335652167172,
          36.88079225647905,
          36.60243560217024,
          36.31815337352396,
          36.02780530119669,
          35.73124351440066,
          35.42831197299976,
          35.11884584284246,
          34.802670807235536,
          34.47960230638705,
          34.14944469537909,
          33.81199030972938,
          33.46701842581812,
          33.11429410132731,
          32.75356687829112,
          32.384569328285224,
          32.007015415572134,
          31.62059864950643,
          31.224989991991986,
          30.81983547900877,
          30.404753506855993,
          29.979331723347542,
          29.543123451163524,
          29.095643554133684,
          28.636363636363637,
          28.16470643740556,
          27.680039252189555,
          27.181666159501905,
          26.66881878368077,
          26.140645235596857,
          25.596196773274702,
          25.034411578573188,
          24.454094847712845,
          23.853894115276223,
          23.232268335464333,
          22.58744867101118,
          21.917388093165794,
          21.219695617366035,
          20.49154902068697,
          19.72957674019154,
          18.929694486000905,
          18.086873312595923,
          17.19480029034338,
          16.245363822642656,
          15.227838071820878,
          14.127518425381847,
          12.923274325175717,
          11.582736274919,
          10.05152017613453,
          8.22379802734055,
          5.82693470394827,
          0
         ],
         "yaxis": "y"
        }
       ],
       "layout": {
        "autosize": true,
        "legend": {
         "tracegroupgap": 0
        },
        "template": {
         "data": {
          "bar": [
           {
            "error_x": {
             "color": "#2a3f5f"
            },
            "error_y": {
             "color": "#2a3f5f"
            },
            "marker": {
             "line": {
              "color": "#E5ECF6",
              "width": 0.5
             },
             "pattern": {
              "fillmode": "overlay",
              "size": 10,
              "solidity": 0.2
             }
            },
            "type": "bar"
           }
          ],
          "barpolar": [
           {
            "marker": {
             "line": {
              "color": "#E5ECF6",
              "width": 0.5
             },
             "pattern": {
              "fillmode": "overlay",
              "size": 10,
              "solidity": 0.2
             }
            },
            "type": "barpolar"
           }
          ],
          "carpet": [
           {
            "aaxis": {
             "endlinecolor": "#2a3f5f",
             "gridcolor": "white",
             "linecolor": "white",
             "minorgridcolor": "white",
             "startlinecolor": "#2a3f5f"
            },
            "baxis": {
             "endlinecolor": "#2a3f5f",
             "gridcolor": "white",
             "linecolor": "white",
             "minorgridcolor": "white",
             "startlinecolor": "#2a3f5f"
            },
            "type": "carpet"
           }
          ],
          "choropleth": [
           {
            "colorbar": {
             "outlinewidth": 0,
             "ticks": ""
            },
            "type": "choropleth"
           }
          ],
          "contour": [
           {
            "colorbar": {
             "outlinewidth": 0,
             "ticks": ""
            },
            "colorscale": [
             [
              0,
              "#0d0887"
             ],
             [
              0.1111111111111111,
              "#46039f"
             ],
             [
              0.2222222222222222,
              "#7201a8"
             ],
             [
              0.3333333333333333,
              "#9c179e"
             ],
             [
              0.4444444444444444,
              "#bd3786"
             ],
             [
              0.5555555555555556,
              "#d8576b"
             ],
             [
              0.6666666666666666,
              "#ed7953"
             ],
             [
              0.7777777777777778,
              "#fb9f3a"
             ],
             [
              0.8888888888888888,
              "#fdca26"
             ],
             [
              1,
              "#f0f921"
             ]
            ],
            "type": "contour"
           }
          ],
          "contourcarpet": [
           {
            "colorbar": {
             "outlinewidth": 0,
             "ticks": ""
            },
            "type": "contourcarpet"
           }
          ],
          "heatmap": [
           {
            "colorbar": {
             "outlinewidth": 0,
             "ticks": ""
            },
            "colorscale": [
             [
              0,
              "#0d0887"
             ],
             [
              0.1111111111111111,
              "#46039f"
             ],
             [
              0.2222222222222222,
              "#7201a8"
             ],
             [
              0.3333333333333333,
              "#9c179e"
             ],
             [
              0.4444444444444444,
              "#bd3786"
             ],
             [
              0.5555555555555556,
              "#d8576b"
             ],
             [
              0.6666666666666666,
              "#ed7953"
             ],
             [
              0.7777777777777778,
              "#fb9f3a"
             ],
             [
              0.8888888888888888,
              "#fdca26"
             ],
             [
              1,
              "#f0f921"
             ]
            ],
            "type": "heatmap"
           }
          ],
          "heatmapgl": [
           {
            "colorbar": {
             "outlinewidth": 0,
             "ticks": ""
            },
            "colorscale": [
             [
              0,
              "#0d0887"
             ],
             [
              0.1111111111111111,
              "#46039f"
             ],
             [
              0.2222222222222222,
              "#7201a8"
             ],
             [
              0.3333333333333333,
              "#9c179e"
             ],
             [
              0.4444444444444444,
              "#bd3786"
             ],
             [
              0.5555555555555556,
              "#d8576b"
             ],
             [
              0.6666666666666666,
              "#ed7953"
             ],
             [
              0.7777777777777778,
              "#fb9f3a"
             ],
             [
              0.8888888888888888,
              "#fdca26"
             ],
             [
              1,
              "#f0f921"
             ]
            ],
            "type": "heatmapgl"
           }
          ],
          "histogram": [
           {
            "marker": {
             "pattern": {
              "fillmode": "overlay",
              "size": 10,
              "solidity": 0.2
             }
            },
            "type": "histogram"
           }
          ],
          "histogram2d": [
           {
            "colorbar": {
             "outlinewidth": 0,
             "ticks": ""
            },
            "colorscale": [
             [
              0,
              "#0d0887"
             ],
             [
              0.1111111111111111,
              "#46039f"
             ],
             [
              0.2222222222222222,
              "#7201a8"
             ],
             [
              0.3333333333333333,
              "#9c179e"
             ],
             [
              0.4444444444444444,
              "#bd3786"
             ],
             [
              0.5555555555555556,
              "#d8576b"
             ],
             [
              0.6666666666666666,
              "#ed7953"
             ],
             [
              0.7777777777777778,
              "#fb9f3a"
             ],
             [
              0.8888888888888888,
              "#fdca26"
             ],
             [
              1,
              "#f0f921"
             ]
            ],
            "type": "histogram2d"
           }
          ],
          "histogram2dcontour": [
           {
            "colorbar": {
             "outlinewidth": 0,
             "ticks": ""
            },
            "colorscale": [
             [
              0,
              "#0d0887"
             ],
             [
              0.1111111111111111,
              "#46039f"
             ],
             [
              0.2222222222222222,
              "#7201a8"
             ],
             [
              0.3333333333333333,
              "#9c179e"
             ],
             [
              0.4444444444444444,
              "#bd3786"
             ],
             [
              0.5555555555555556,
              "#d8576b"
             ],
             [
              0.6666666666666666,
              "#ed7953"
             ],
             [
              0.7777777777777778,
              "#fb9f3a"
             ],
             [
              0.8888888888888888,
              "#fdca26"
             ],
             [
              1,
              "#f0f921"
             ]
            ],
            "type": "histogram2dcontour"
           }
          ],
          "mesh3d": [
           {
            "colorbar": {
             "outlinewidth": 0,
             "ticks": ""
            },
            "type": "mesh3d"
           }
          ],
          "parcoords": [
           {
            "line": {
             "colorbar": {
              "outlinewidth": 0,
              "ticks": ""
             }
            },
            "type": "parcoords"
           }
          ],
          "pie": [
           {
            "automargin": true,
            "type": "pie"
           }
          ],
          "scatter": [
           {
            "marker": {
             "colorbar": {
              "outlinewidth": 0,
              "ticks": ""
             }
            },
            "type": "scatter"
           }
          ],
          "scatter3d": [
           {
            "line": {
             "colorbar": {
              "outlinewidth": 0,
              "ticks": ""
             }
            },
            "marker": {
             "colorbar": {
              "outlinewidth": 0,
              "ticks": ""
             }
            },
            "type": "scatter3d"
           }
          ],
          "scattercarpet": [
           {
            "marker": {
             "colorbar": {
              "outlinewidth": 0,
              "ticks": ""
             }
            },
            "type": "scattercarpet"
           }
          ],
          "scattergeo": [
           {
            "marker": {
             "colorbar": {
              "outlinewidth": 0,
              "ticks": ""
             }
            },
            "type": "scattergeo"
           }
          ],
          "scattergl": [
           {
            "marker": {
             "colorbar": {
              "outlinewidth": 0,
              "ticks": ""
             }
            },
            "type": "scattergl"
           }
          ],
          "scattermapbox": [
           {
            "marker": {
             "colorbar": {
              "outlinewidth": 0,
              "ticks": ""
             }
            },
            "type": "scattermapbox"
           }
          ],
          "scatterpolar": [
           {
            "marker": {
             "colorbar": {
              "outlinewidth": 0,
              "ticks": ""
             }
            },
            "type": "scatterpolar"
           }
          ],
          "scatterpolargl": [
           {
            "marker": {
             "colorbar": {
              "outlinewidth": 0,
              "ticks": ""
             }
            },
            "type": "scatterpolargl"
           }
          ],
          "scatterternary": [
           {
            "marker": {
             "colorbar": {
              "outlinewidth": 0,
              "ticks": ""
             }
            },
            "type": "scatterternary"
           }
          ],
          "surface": [
           {
            "colorbar": {
             "outlinewidth": 0,
             "ticks": ""
            },
            "colorscale": [
             [
              0,
              "#0d0887"
             ],
             [
              0.1111111111111111,
              "#46039f"
             ],
             [
              0.2222222222222222,
              "#7201a8"
             ],
             [
              0.3333333333333333,
              "#9c179e"
             ],
             [
              0.4444444444444444,
              "#bd3786"
             ],
             [
              0.5555555555555556,
              "#d8576b"
             ],
             [
              0.6666666666666666,
              "#ed7953"
             ],
             [
              0.7777777777777778,
              "#fb9f3a"
             ],
             [
              0.8888888888888888,
              "#fdca26"
             ],
             [
              1,
              "#f0f921"
             ]
            ],
            "type": "surface"
           }
          ],
          "table": [
           {
            "cells": {
             "fill": {
              "color": "#EBF0F8"
             },
             "line": {
              "color": "white"
             }
            },
            "header": {
             "fill": {
              "color": "#C8D4E3"
             },
             "line": {
              "color": "white"
             }
            },
            "type": "table"
           }
          ]
         },
         "layout": {
          "annotationdefaults": {
           "arrowcolor": "#2a3f5f",
           "arrowhead": 0,
           "arrowwidth": 1
          },
          "autotypenumbers": "strict",
          "coloraxis": {
           "colorbar": {
            "outlinewidth": 0,
            "ticks": ""
           }
          },
          "colorscale": {
           "diverging": [
            [
             0,
             "#8e0152"
            ],
            [
             0.1,
             "#c51b7d"
            ],
            [
             0.2,
             "#de77ae"
            ],
            [
             0.3,
             "#f1b6da"
            ],
            [
             0.4,
             "#fde0ef"
            ],
            [
             0.5,
             "#f7f7f7"
            ],
            [
             0.6,
             "#e6f5d0"
            ],
            [
             0.7,
             "#b8e186"
            ],
            [
             0.8,
             "#7fbc41"
            ],
            [
             0.9,
             "#4d9221"
            ],
            [
             1,
             "#276419"
            ]
           ],
           "sequential": [
            [
             0,
             "#0d0887"
            ],
            [
             0.1111111111111111,
             "#46039f"
            ],
            [
             0.2222222222222222,
             "#7201a8"
            ],
            [
             0.3333333333333333,
             "#9c179e"
            ],
            [
             0.4444444444444444,
             "#bd3786"
            ],
            [
             0.5555555555555556,
             "#d8576b"
            ],
            [
             0.6666666666666666,
             "#ed7953"
            ],
            [
             0.7777777777777778,
             "#fb9f3a"
            ],
            [
             0.8888888888888888,
             "#fdca26"
            ],
            [
             1,
             "#f0f921"
            ]
           ],
           "sequentialminus": [
            [
             0,
             "#0d0887"
            ],
            [
             0.1111111111111111,
             "#46039f"
            ],
            [
             0.2222222222222222,
             "#7201a8"
            ],
            [
             0.3333333333333333,
             "#9c179e"
            ],
            [
             0.4444444444444444,
             "#bd3786"
            ],
            [
             0.5555555555555556,
             "#d8576b"
            ],
            [
             0.6666666666666666,
             "#ed7953"
            ],
            [
             0.7777777777777778,
             "#fb9f3a"
            ],
            [
             0.8888888888888888,
             "#fdca26"
            ],
            [
             1,
             "#f0f921"
            ]
           ]
          },
          "colorway": [
           "#636efa",
           "#EF553B",
           "#00cc96",
           "#ab63fa",
           "#FFA15A",
           "#19d3f3",
           "#FF6692",
           "#B6E880",
           "#FF97FF",
           "#FECB52"
          ],
          "font": {
           "color": "#2a3f5f"
          },
          "geo": {
           "bgcolor": "white",
           "lakecolor": "white",
           "landcolor": "#E5ECF6",
           "showlakes": true,
           "showland": true,
           "subunitcolor": "white"
          },
          "hoverlabel": {
           "align": "left"
          },
          "hovermode": "closest",
          "mapbox": {
           "style": "light"
          },
          "paper_bgcolor": "white",
          "plot_bgcolor": "#E5ECF6",
          "polar": {
           "angularaxis": {
            "gridcolor": "white",
            "linecolor": "white",
            "ticks": ""
           },
           "bgcolor": "#E5ECF6",
           "radialaxis": {
            "gridcolor": "white",
            "linecolor": "white",
            "ticks": ""
           }
          },
          "scene": {
           "xaxis": {
            "backgroundcolor": "#E5ECF6",
            "gridcolor": "white",
            "gridwidth": 2,
            "linecolor": "white",
            "showbackground": true,
            "ticks": "",
            "zerolinecolor": "white"
           },
           "yaxis": {
            "backgroundcolor": "#E5ECF6",
            "gridcolor": "white",
            "gridwidth": 2,
            "linecolor": "white",
            "showbackground": true,
            "ticks": "",
            "zerolinecolor": "white"
           },
           "zaxis": {
            "backgroundcolor": "#E5ECF6",
            "gridcolor": "white",
            "gridwidth": 2,
            "linecolor": "white",
            "showbackground": true,
            "ticks": "",
            "zerolinecolor": "white"
           }
          },
          "shapedefaults": {
           "line": {
            "color": "#2a3f5f"
           }
          },
          "ternary": {
           "aaxis": {
            "gridcolor": "white",
            "linecolor": "white",
            "ticks": ""
           },
           "baxis": {
            "gridcolor": "white",
            "linecolor": "white",
            "ticks": ""
           },
           "bgcolor": "#E5ECF6",
           "caxis": {
            "gridcolor": "white",
            "linecolor": "white",
            "ticks": ""
           }
          },
          "title": {
           "x": 0.05
          },
          "xaxis": {
           "automargin": true,
           "gridcolor": "white",
           "linecolor": "white",
           "ticks": "",
           "title": {
            "standoff": 15
           },
           "zerolinecolor": "white",
           "zerolinewidth": 2
          },
          "yaxis": {
           "automargin": true,
           "gridcolor": "white",
           "linecolor": "white",
           "ticks": "",
           "title": {
            "standoff": 15
           },
           "zerolinecolor": "white",
           "zerolinewidth": 2
          }
         }
        },
        "title": {
         "text": "Pucksches Bruchkriterium"
        },
        "xaxis": {
         "anchor": "y",
         "autorange": true,
         "domain": [
          0,
          1
         ],
         "range": [
          -130,
          25
         ],
         "title": {
          "text": "x"
         },
         "type": "linear"
        },
        "yaxis": {
         "anchor": "x",
         "autorange": true,
         "domain": [
          0,
          1
         ],
         "range": [
          -3.249975473367775,
          61.749533993987725
         ],
         "title": {
          "text": "y"
         },
         "type": "linear"
        }
       }
      },
      "image/png": "[encoded data removed]",
      "text/html": [
       "<div>                            <div id=\"80fa5362-9eb8-435e-b53c-578bef076db6\" class=\"plotly-graph-div\" style=\"height:525px; width:100%;\"></div>            <script type=\"text/javascript\">                require([\"plotly\"], function(Plotly) {                    window.PLOTLYENV=window.PLOTLYENV || {};                                    if (document.getElementById(\"80fa5362-9eb8-435e-b53c-578bef076db6\")) {                    Plotly.newPlot(                        \"80fa5362-9eb8-435e-b53c-578bef076db6\",                        [{\"hovertemplate\":\"x=%{x}<br>y=%{y}<extra></extra>\",\"legendgroup\":\"\",\"line\":{\"color\":\"#636efa\",\"dash\":\"solid\"},\"marker\":{\"symbol\":\"circle\"},\"mode\":\"lines\",\"name\":\"\",\"orientation\":\"v\",\"showlegend\":false,\"type\":\"scatter\",\"x\":[-130.0,-129.14141414141415,-128.2828282828283,-127.42424242424242,-126.56565656565657,-125.70707070707071,-124.84848484848484,-123.98989898989899,-123.13131313131314,-122.27272727272728,-121.41414141414141,-120.55555555555556,-119.6969696969697,-118.83838383838383,-117.97979797979798,-117.12121212121212,-116.26262626262627,-115.4040404040404,-114.54545454545455,-113.68686868686869,-112.82828282828282,-111.96969696969697,-111.11111111111111,-110.25252525252526,-109.39393939393939,-108.53535353535354,-107.67676767676768,-106.81818181818181,-105.95959595959596,-105.1010101010101,-104.24242424242425,-103.38383838383838,-102.52525252525253,-101.66666666666667,-100.8080808080808,-99.94949494949495,-99.0909090909091,-98.23232323232324,-97.37373737373738,-96.51515151515152,-95.65656565656566,-94.79797979797979,-93.93939393939394,-93.08080808080808,-92.22222222222223,-91.36363636363637,-90.5050505050505,-89.64646464646465,-88.78787878787878,-87.92929292929293,-87.07070707070707,-86.21212121212122,-85.35353535353536,-84.4949494949495,-83.63636363636364,-82.77777777777777,-81.91919191919192,-81.06060606060606,-80.20202020202021,-79.34343434343435,-78.48484848484848,-77.62626262626263,-76.76767676767676,-75.9090909090909,-75.05050505050505,-74.1919191919192,-73.33333333333334,-72.47474747474747,-71.61616161616162,-70.75757575757575,-69.8989898989899,-69.04040404040404,-68.18181818181819,-67.32323232323233,-66.46464646464646,-65.60606060606061,-64.74747474747475,-63.888888888888886,-63.03030303030303,-62.17171717171718,-61.31313131313132,-60.45454545454545,-59.5959595959596,-58.737373737373744,-57.878787878787875,-57.02020202020202,-56.161616161616166,-55.30303030303031,-54.44444444444444,-53.58585858585859,-52.727272727272734,-51.868686868686865,-51.01010101010101,-50.151515151515156,-49.2929292929293,-48.43434343434343,-47.57575757575758,-46.71717171717172,-45.858585858585855,-45.0,-45.0,-44.54545454545455,-44.09090909090909,-43.63636363636363,-43.18181818181818,-42.72727272727273,-42.27272727272727,-41.81818181818182,-41.36363636363637,-40.90909090909091,-40.45454545454545,-40.0,-39.54545454545455,-39.09090909090909,-38.63636363636364,-38.18181818181818,-37.72727272727273,-37.27272727272727,-36.81818181818182,-36.36363636363636,-35.90909090909091,-35.45454545454545,-35.0,-34.54545454545455,-34.09090909090909,-33.63636363636364,-33.18181818181818,-32.72727272727273,-32.27272727272727,-31.81818181818182,-31.363636363636363,-30.90909090909091,-30.454545454545453,-30.0,-29.545454545454547,-29.090909090909093,-28.636363636363637,-28.181818181818183,-27.727272727272727,-27.272727272727273,-26.81818181818182,-26.363636363636363,-25.90909090909091,-25.454545454545457,-25.0,-24.545454545454547,-24.09090909090909,-23.636363636363637,-23.181818181818183,-22.727272727272727,-22.272727272727273,-21.81818181818182,-21.363636363636363,-20.90909090909091,-20.454545454545457,-20.0,-19.545454545454547,-19.090909090909093,-18.636363636363637,-18.181818181818183,-17.727272727272727,-17.272727272727273,-16.81818181818182,-16.363636363636363,-15.90909090909091,-15.454545454545457,-15.0,-14.545454545454547,-14.090909090909093,-13.636363636363637,-13.181818181818183,-12.727272727272727,-12.272727272727273,-11.81818181818182,-11.363636363636367,-10.909090909090914,-10.454545454545453,-10.0,-9.545454545454547,-9.090909090909093,-8.63636363636364,-8.18181818181818,-7.727272727272727,-7.272727272727273,-6.81818181818182,-6.363636363636367,-5.909090909090914,-5.454545454545453,-5.0,-4.545454545454547,-4.0909090909090935,-3.6363636363636402,-3.18181818181818,-2.7272727272727266,-2.2727272727272734,-1.8181818181818201,-1.3636363636363669,-0.9090909090909136,-0.45454545454545325,0.0,0.0,0.25252525252525254,0.5050505050505051,0.7575757575757576,1.0101010101010102,1.2626262626262628,1.5151515151515151,1.7676767676767677,2.0202020202020203,2.272727272727273,2.5252525252525255,2.777777777777778,3.0303030303030303,3.282828282828283,3.5353535353535355,3.787878787878788,4.040404040404041,4.292929292929293,4.545454545454546,4.7979797979797985,5.050505050505051,5.303030303030304,5.555555555555556,5.808080808080809,6.0606060606060606,6.313131313131313,6.565656565656566,6.818181818181818,7.070707070707071,7.3232323232323235,7.575757575757576,7.828282828282829,8.080808080808081,8.333333333333334,8.585858585858587,8.83838383838384,9.090909090909092,9.343434343434344,9.595959595959597,9.84848484848485,10.101010101010102,10.353535353535355,10.606060606060607,10.85858585858586,11.111111111111112,11.363636363636365,11.616161616161618,11.86868686868687,12.121212121212121,12.373737373737374,12.626262626262626,12.878787878787879,13.131313131313131,13.383838383838384,13.636363636363637,13.88888888888889,14.141414141414142,14.393939393939394,14.646464646464647,14.8989898989899,15.151515151515152,15.404040404040405,15.656565656565657,15.90909090909091,16.161616161616163,16.414141414141415,16.666666666666668,16.91919191919192,17.171717171717173,17.424242424242426,17.67676767676768,17.92929292929293,18.181818181818183,18.434343434343436,18.68686868686869,18.93939393939394,19.191919191919194,19.444444444444446,19.6969696969697,19.94949494949495,20.202020202020204,20.454545454545457,20.70707070707071,20.959595959595962,21.212121212121215,21.464646464646467,21.71717171717172,21.969696969696972,22.222222222222225,22.474747474747478,22.72727272727273,22.979797979797983,23.232323232323235,23.484848484848488,23.73737373737374,23.989898989898993,24.242424242424242,24.494949494949495,24.747474747474747,25.0],\"xaxis\":\"x\",\"y\":[0.0,9.476918458606383,13.357759994329706,16.30500861039711,18.763865396769905,20.907361588565895,22.824519221353825,24.568381548258856,26.17360982439507,27.664347375321885,29.0582202705062,30.368569278120415,31.605784594512286,32.77814858702956,33.89239169601392,34.95407258221342,35.96784606302165,36.93765688112564,37.8668829776928,38.75844349491812,39.61488158476819,40.43842886321895,41.2310562561766,41.99451459653209,42.73036739276486,43.44001754105241,44.124729297041476,44.785646497861386,45.42380778897326,46.04015943707988,46.63556618137975,47.2108204784447,47.76665042225573,48.303726564313855,48.822667814878606,49.32404657211262,49.80839319891629,50.27619994581666,50.72792440115784,51.1639925360737,51.58480140057913,51.99072151804533,52.382099017896,52.759257540249244,53.12249994117371,53.47210982302474,53.808352910818655,54.13147829266037,54.44171953976363,54.7392957195082,55.0244123132017,55.29726204870043,55.558025656749464,55.80687255879322,56.04396149305214,56.26944108483752,56.483450366361794,56.686119250681465,56.87756896386895,57.05791243903712,57.22725467542499,57.385693065389056,57.533317691821836,57.67021159823435,57.796451033485745,57.91210567291673,58.01723881744115,58.111907571967485,58.19616300435753,58.27005028597949,58.33360881477652,58.38687232164549,58.42986896080514,58.46262138472371,58.48514680407509,58.49745703309541,58.49955852061995,58.4914523669912,58.47313432694137,58.44459479846725,58.405818797629124,58.35678591911927,58.29747028235714,58.22784046277758,58.14785940788369,58.05748433753658,57.95666662784852,57.84535167793348,57.723478758647246,57.590980842317364,57.44778441231914,57.29380925119569,57.128968205845126,56.953166928104146,56.766303588841296,56.568268563431054,56.35894408620869,56.13820387119896,55.9059126960661,55.66192594583842,56.92099788303083,56.81309068099774,56.704978136443586,56.59665907261504,56.488132301476305,56.37939662355712,56.27045082779804,56.16129369139309,56.051923979629656,55.94234044572549,55.83254183066293,55.72252686302013,55.612294258799224,55.50184272125157,55.39117094069973,55.28027759435629,55.16916134613941,55.05782084648498,54.9462547321554,54.83446162604481,54.722440136980865,54.61018885952261,54.49770637375485,54.38499124507857,54.27204202399745,54.1588572459004,54.04543543083996,53.93177508330654,53.81787469199835,53.70373272958695,53.58934765247831,53.47471790056919,53.35984189699897,53.24471804789654,53.12934474212225,53.01372035100485,52.897843228073285,52.78171170878311,52.665324110237506,52.5486787309028,52.43177385031817,52.31460772879963,52.19717860713789,52.079484706290316,51.96152422706631,51.84329534980654,51.72479623405535,51.60602501822649,51.48697981926198,51.367658732283715,51.24805983023783,51.128181163531615,51.00802075966271,50.88757662284041,50.76684673359896,50.6458290484024,50.52452149924107,50.40292199321926,50.28102841213392,50.15883861204414,50.03635042283124,49.91356164774896,49.79047006296395,49.66707341708571,49.54336943068623,49.419355795808656,49.295030175464944,49.17039020312196,49.045433482175945,48.920157585414806,48.794560054468064,48.66863839924396,48.54239009735343,48.41581259352061,48.288903298979385,48.16165959085562,48.0340788115347,47.90615826801394,47.777895231239235,47.649286935425856,47.52033057736256,47.391023315698625,47.26136227021354,47.131344521068314,47.00096710803842,46.87022702972733,46.73912124276038,46.60764666095819,46.475800154489,46.34357854899935,46.21097862472235,46.07799711556285,45.944630708158826,45.810876040918096,45.6767297030297,45.54218823344909,45.40724811985617,45.2719057975855,45.136157648527494,45.0,45.0,44.92264548237321,44.84208594809466,44.758304091240625,44.671281781229,44.58100004192696,44.48743902951662,44.39057800905459,44.290395329656974,44.18686839823541,44.07997365170476,43.9696865275764,43.85598143284467,43.73883171106695,43.61820960752964,43.49408623238431,43.366431521628684,43.23521419579732,43.10040171621575,42.96196023866007,42.8198545642507,42.674048087394866,42.52450274057691,42.371178935777955,42.21403550228797,42.053029620652566,41.88811675247373,41.71925056575915,41.546382855486414,41.36946345901833,41.188440165971144,41.00325862210044,40.813862226727075,40.6201920231798,40.42218658167909,40.21978187402923,40.012911139421476,39.801504740578906,39.58549000939291,39.364791081110845,39.139328716031876,38.90902010755382,38.67377867528325,38.4335138417748,38.18813079129867,37.937530208846056,37.681607997366804,37.42025497098682,37.15335652167172,36.88079225647905,36.60243560217024,36.31815337352396,36.02780530119669,35.73124351440066,35.42831197299976,35.11884584284246,34.802670807235536,34.47960230638705,34.14944469537909,33.81199030972938,33.46701842581812,33.11429410132731,32.75356687829112,32.384569328285224,32.007015415572134,31.62059864950643,31.224989991991986,30.81983547900877,30.404753506855993,29.979331723347542,29.543123451163524,29.095643554133684,28.636363636363637,28.16470643740556,27.680039252189555,27.181666159501905,26.66881878368077,26.140645235596857,25.596196773274702,25.034411578573188,24.454094847712845,23.853894115276223,23.232268335464333,22.58744867101118,21.917388093165794,21.219695617366035,20.49154902068697,19.72957674019154,18.929694486000905,18.086873312595923,17.19480029034338,16.245363822642656,15.227838071820878,14.127518425381847,12.923274325175717,11.582736274919,10.05152017613453,8.22379802734055,5.82693470394827,0.0],\"yaxis\":\"y\"}],                        {\"legend\":{\"tracegroupgap\":0},\"template\":{\"data\":{\"bar\":[{\"error_x\":{\"color\":\"#2a3f5f\"},\"error_y\":{\"color\":\"#2a3f5f\"},\"marker\":{\"line\":{\"color\":\"#E5ECF6\",\"width\":0.5},\"pattern\":{\"fillmode\":\"overlay\",\"size\":10,\"solidity\":0.2}},\"type\":\"bar\"}],\"barpolar\":[{\"marker\":{\"line\":{\"color\":\"#E5ECF6\",\"width\":0.5},\"pattern\":{\"fillmode\":\"overlay\",\"size\":10,\"solidity\":0.2}},\"type\":\"barpolar\"}],\"carpet\":[{\"aaxis\":{\"endlinecolor\":\"#2a3f5f\",\"gridcolor\":\"white\",\"linecolor\":\"white\",\"minorgridcolor\":\"white\",\"startlinecolor\":\"#2a3f5f\"},\"baxis\":{\"endlinecolor\":\"#2a3f5f\",\"gridcolor\":\"white\",\"linecolor\":\"white\",\"minorgridcolor\":\"white\",\"startlinecolor\":\"#2a3f5f\"},\"type\":\"carpet\"}],\"choropleth\":[{\"colorbar\":{\"outlinewidth\":0,\"ticks\":\"\"},\"type\":\"choropleth\"}],\"contour\":[{\"colorbar\":{\"outlinewidth\":0,\"ticks\":\"\"},\"colorscale\":[[0.0,\"#0d0887\"],[0.1111111111111111,\"#46039f\"],[0.2222222222222222,\"#7201a8\"],[0.3333333333333333,\"#9c179e\"],[0.4444444444444444,\"#bd3786\"],[0.5555555555555556,\"#d8576b\"],[0.6666666666666666,\"#ed7953\"],[0.7777777777777778,\"#fb9f3a\"],[0.8888888888888888,\"#fdca26\"],[1.0,\"#f0f921\"]],\"type\":\"contour\"}],\"contourcarpet\":[{\"colorbar\":{\"outlinewidth\":0,\"ticks\":\"\"},\"type\":\"contourcarpet\"}],\"heatmap\":[{\"colorbar\":{\"outlinewidth\":0,\"ticks\":\"\"},\"colorscale\":[[0.0,\"#0d0887\"],[0.1111111111111111,\"#46039f\"],[0.2222222222222222,\"#7201a8\"],[0.3333333333333333,\"#9c179e\"],[0.4444444444444444,\"#bd3786\"],[0.5555555555555556,\"#d8576b\"],[0.6666666666666666,\"#ed7953\"],[0.7777777777777778,\"#fb9f3a\"],[0.8888888888888888,\"#fdca26\"],[1.0,\"#f0f921\"]],\"type\":\"heatmap\"}],\"heatmapgl\":[{\"colorbar\":{\"outlinewidth\":0,\"ticks\":\"\"},\"colorscale\":[[0.0,\"#0d0887\"],[0.1111111111111111,\"#46039f\"],[0.2222222222222222,\"#7201a8\"],[0.3333333333333333,\"#9c179e\"],[0.4444444444444444,\"#bd3786\"],[0.5555555555555556,\"#d8576b\"],[0.6666666666666666,\"#ed7953\"],[0.7777777777777778,\"#fb9f3a\"],[0.8888888888888888,\"#fdca26\"],[1.0,\"#f0f921\"]],\"type\":\"heatmapgl\"}],\"histogram\":[{\"marker\":{\"pattern\":{\"fillmode\":\"overlay\",\"size\":10,\"solidity\":0.2}},\"type\":\"histogram\"}],\"histogram2d\":[{\"colorbar\":{\"outlinewidth\":0,\"ticks\":\"\"},\"colorscale\":[[0.0,\"#0d0887\"],[0.1111111111111111,\"#46039f\"],[0.2222222222222222,\"#7201a8\"],[0.3333333333333333,\"#9c179e\"],[0.4444444444444444,\"#bd3786\"],[0.5555555555555556,\"#d8576b\"],[0.6666666666666666,\"#ed7953\"],[0.7777777777777778,\"#fb9f3a\"],[0.8888888888888888,\"#fdca26\"],[1.0,\"#f0f921\"]],\"type\":\"histogram2d\"}],\"histogram2dcontour\":[{\"colorbar\":{\"outlinewidth\":0,\"ticks\":\"\"},\"colorscale\":[[0.0,\"#0d0887\"],[0.1111111111111111,\"#46039f\"],[0.2222222222222222,\"#7201a8\"],[0.3333333333333333,\"#9c179e\"],[0.4444444444444444,\"#bd3786\"],[0.5555555555555556,\"#d8576b\"],[0.6666666666666666,\"#ed7953\"],[0.7777777777777778,\"#fb9f3a\"],[0.8888888888888888,\"#fdca26\"],[1.0,\"#f0f921\"]],\"type\":\"histogram2dcontour\"}],\"mesh3d\":[{\"colorbar\":{\"outlinewidth\":0,\"ticks\":\"\"},\"type\":\"mesh3d\"}],\"parcoords\":[{\"line\":{\"colorbar\":{\"outlinewidth\":0,\"ticks\":\"\"}},\"type\":\"parcoords\"}],\"pie\":[{\"automargin\":true,\"type\":\"pie\"}],\"scatter\":[{\"marker\":{\"colorbar\":{\"outlinewidth\":0,\"ticks\":\"\"}},\"type\":\"scatter\"}],\"scatter3d\":[{\"line\":{\"colorbar\":{\"outlinewidth\":0,\"ticks\":\"\"}},\"marker\":{\"colorbar\":{\"outlinewidth\":0,\"ticks\":\"\"}},\"type\":\"scatter3d\"}],\"scattercarpet\":[{\"marker\":{\"colorbar\":{\"outlinewidth\":0,\"ticks\":\"\"}},\"type\":\"scattercarpet\"}],\"scattergeo\":[{\"marker\":{\"colorbar\":{\"outlinewidth\":0,\"ticks\":\"\"}},\"type\":\"scattergeo\"}],\"scattergl\":[{\"marker\":{\"colorbar\":{\"outlinewidth\":0,\"ticks\":\"\"}},\"type\":\"scattergl\"}],\"scattermapbox\":[{\"marker\":{\"colorbar\":{\"outlinewidth\":0,\"ticks\":\"\"}},\"type\":\"scattermapbox\"}],\"scatterpolar\":[{\"marker\":{\"colorbar\":{\"outlinewidth\":0,\"ticks\":\"\"}},\"type\":\"scatterpolar\"}],\"scatterpolargl\":[{\"marker\":{\"colorbar\":{\"outlinewidth\":0,\"ticks\":\"\"}},\"type\":\"scatterpolargl\"}],\"scatterternary\":[{\"marker\":{\"colorbar\":{\"outlinewidth\":0,\"ticks\":\"\"}},\"type\":\"scatterternary\"}],\"surface\":[{\"colorbar\":{\"outlinewidth\":0,\"ticks\":\"\"},\"colorscale\":[[0.0,\"#0d0887\"],[0.1111111111111111,\"#46039f\"],[0.2222222222222222,\"#7201a8\"],[0.3333333333333333,\"#9c179e\"],[0.4444444444444444,\"#bd3786\"],[0.5555555555555556,\"#d8576b\"],[0.6666666666666666,\"#ed7953\"],[0.7777777777777778,\"#fb9f3a\"],[0.8888888888888888,\"#fdca26\"],[1.0,\"#f0f921\"]],\"type\":\"surface\"}],\"table\":[{\"cells\":{\"fill\":{\"color\":\"#EBF0F8\"},\"line\":{\"color\":\"white\"}},\"header\":{\"fill\":{\"color\":\"#C8D4E3\"},\"line\":{\"color\":\"white\"}},\"type\":\"table\"}]},\"layout\":{\"annotationdefaults\":{\"arrowcolor\":\"#2a3f5f\",\"arrowhead\":0,\"arrowwidth\":1},\"autotypenumbers\":\"strict\",\"coloraxis\":{\"colorbar\":{\"outlinewidth\":0,\"ticks\":\"\"}},\"colorscale\":{\"diverging\":[[0,\"#8e0152\"],[0.1,\"#c51b7d\"],[0.2,\"#de77ae\"],[0.3,\"#f1b6da\"],[0.4,\"#fde0ef\"],[0.5,\"#f7f7f7\"],[0.6,\"#e6f5d0\"],[0.7,\"#b8e186\"],[0.8,\"#7fbc41\"],[0.9,\"#4d9221\"],[1,\"#276419\"]],\"sequential\":[[0.0,\"#0d0887\"],[0.1111111111111111,\"#46039f\"],[0.2222222222222222,\"#7201a8\"],[0.3333333333333333,\"#9c179e\"],[0.4444444444444444,\"#bd3786\"],[0.5555555555555556,\"#d8576b\"],[0.6666666666666666,\"#ed7953\"],[0.7777777777777778,\"#fb9f3a\"],[0.8888888888888888,\"#fdca26\"],[1.0,\"#f0f921\"]],\"sequentialminus\":[[0.0,\"#0d0887\"],[0.1111111111111111,\"#46039f\"],[0.2222222222222222,\"#7201a8\"],[0.3333333333333333,\"#9c179e\"],[0.4444444444444444,\"#bd3786\"],[0.5555555555555556,\"#d8576b\"],[0.6666666666666666,\"#ed7953\"],[0.7777777777777778,\"#fb9f3a\"],[0.8888888888888888,\"#fdca26\"],[1.0,\"#f0f921\"]]},\"colorway\":[\"#636efa\",\"#EF553B\",\"#00cc96\",\"#ab63fa\",\"#FFA15A\",\"#19d3f3\",\"#FF6692\",\"#B6E880\",\"#FF97FF\",\"#FECB52\"],\"font\":{\"color\":\"#2a3f5f\"},\"geo\":{\"bgcolor\":\"white\",\"lakecolor\":\"white\",\"landcolor\":\"#E5ECF6\",\"showlakes\":true,\"showland\":true,\"subunitcolor\":\"white\"},\"hoverlabel\":{\"align\":\"left\"},\"hovermode\":\"closest\",\"mapbox\":{\"style\":\"light\"},\"paper_bgcolor\":\"white\",\"plot_bgcolor\":\"#E5ECF6\",\"polar\":{\"angularaxis\":{\"gridcolor\":\"white\",\"linecolor\":\"white\",\"ticks\":\"\"},\"bgcolor\":\"#E5ECF6\",\"radialaxis\":{\"gridcolor\":\"white\",\"linecolor\":\"white\",\"ticks\":\"\"}},\"scene\":{\"xaxis\":{\"backgroundcolor\":\"#E5ECF6\",\"gridcolor\":\"white\",\"gridwidth\":2,\"linecolor\":\"white\",\"showbackground\":true,\"ticks\":\"\",\"zerolinecolor\":\"white\"},\"yaxis\":{\"backgroundcolor\":\"#E5ECF6\",\"gridcolor\":\"white\",\"gridwidth\":2,\"linecolor\":\"white\",\"showbackground\":true,\"ticks\":\"\",\"zerolinecolor\":\"white\"},\"zaxis\":{\"backgroundcolor\":\"#E5ECF6\",\"gridcolor\":\"white\",\"gridwidth\":2,\"linecolor\":\"white\",\"showbackground\":true,\"ticks\":\"\",\"zerolinecolor\":\"white\"}},\"shapedefaults\":{\"line\":{\"color\":\"#2a3f5f\"}},\"ternary\":{\"aaxis\":{\"gridcolor\":\"white\",\"linecolor\":\"white\",\"ticks\":\"\"},\"baxis\":{\"gridcolor\":\"white\",\"linecolor\":\"white\",\"ticks\":\"\"},\"bgcolor\":\"#E5ECF6\",\"caxis\":{\"gridcolor\":\"white\",\"linecolor\":\"white\",\"ticks\":\"\"}},\"title\":{\"x\":0.05},\"xaxis\":{\"automargin\":true,\"gridcolor\":\"white\",\"linecolor\":\"white\",\"ticks\":\"\",\"title\":{\"standoff\":15},\"zerolinecolor\":\"white\",\"zerolinewidth\":2},\"yaxis\":{\"automargin\":true,\"gridcolor\":\"white\",\"linecolor\":\"white\",\"ticks\":\"\",\"title\":{\"standoff\":15},\"zerolinecolor\":\"white\",\"zerolinewidth\":2}}},\"title\":{\"text\":\"Pucksches Bruchkriterium\"},\"xaxis\":{\"anchor\":\"y\",\"domain\":[0.0,1.0],\"title\":{\"text\":\"x\"}},\"yaxis\":{\"anchor\":\"x\",\"domain\":[0.0,1.0],\"title\":{\"text\":\"y\"}}},                        {\"responsive\": true}                    ).then(function(){\n",
       "                            \n",
       "var gd = document.getElementById('80fa5362-9eb8-435e-b53c-578bef076db6');\n",
       "var x = new MutationObserver(function (mutations, observer) {{\n",
       "        var display = window.getComputedStyle(gd).display;\n",
       "        if (!display || display === 'none') {{\n",
       "            console.log([gd, 'removed!']);\n",
       "            Plotly.purge(gd);\n",
       "            observer.disconnect();\n",
       "        }}\n",
       "}});\n",
       "\n",
       "// Listen for the removal of the full notebook cells\n",
       "var notebookContainer = gd.closest('#notebook-container');\n",
       "if (notebookContainer) {{\n",
       "    x.observe(notebookContainer, {childList: true});\n",
       "}}\n",
       "\n",
       "// Listen for the clearing of the current output cell\n",
       "var outputEl = gd.closest('.output');\n",
       "if (outputEl) {{\n",
       "    x.observe(outputEl, {childList: true});\n",
       "}}\n",
       "\n",
       "                        })                };                });            </script>        </div>"
      ]
     },
     "metadata": {},
     "output_type": "display_data"
    },
    {
     "data": {
      "text/html": [
       "<div>\n",
       "<style scoped>\n",
       "    .dataframe tbody tr th:only-of-type {\n",
       "        vertical-align: middle;\n",
       "    }\n",
       "\n",
       "    .dataframe tbody tr th {\n",
       "        vertical-align: top;\n",
       "    }\n",
       "\n",
       "    .dataframe thead th {\n",
       "        text-align: right;\n",
       "    }\n",
       "</style>\n",
       "<table border=\"1\" class=\"dataframe\">\n",
       "  <thead>\n",
       "    <tr style=\"text-align: right;\">\n",
       "      <th></th>\n",
       "      <th>y</th>\n",
       "      <th>x</th>\n",
       "    </tr>\n",
       "  </thead>\n",
       "  <tbody>\n",
       "    <tr>\n",
       "      <th>0</th>\n",
       "      <td>0.000000</td>\n",
       "      <td>-130.000000</td>\n",
       "    </tr>\n",
       "    <tr>\n",
       "      <th>1</th>\n",
       "      <td>9.476918</td>\n",
       "      <td>-129.141414</td>\n",
       "    </tr>\n",
       "    <tr>\n",
       "      <th>2</th>\n",
       "      <td>13.357760</td>\n",
       "      <td>-128.282828</td>\n",
       "    </tr>\n",
       "    <tr>\n",
       "      <th>3</th>\n",
       "      <td>16.305009</td>\n",
       "      <td>-127.424242</td>\n",
       "    </tr>\n",
       "    <tr>\n",
       "      <th>4</th>\n",
       "      <td>18.763865</td>\n",
       "      <td>-126.565657</td>\n",
       "    </tr>\n",
       "    <tr>\n",
       "      <th>...</th>\n",
       "      <td>...</td>\n",
       "      <td>...</td>\n",
       "    </tr>\n",
       "    <tr>\n",
       "      <th>95</th>\n",
       "      <td>11.582736</td>\n",
       "      <td>23.989899</td>\n",
       "    </tr>\n",
       "    <tr>\n",
       "      <th>96</th>\n",
       "      <td>10.051520</td>\n",
       "      <td>24.242424</td>\n",
       "    </tr>\n",
       "    <tr>\n",
       "      <th>97</th>\n",
       "      <td>8.223798</td>\n",
       "      <td>24.494949</td>\n",
       "    </tr>\n",
       "    <tr>\n",
       "      <th>98</th>\n",
       "      <td>5.826935</td>\n",
       "      <td>24.747475</td>\n",
       "    </tr>\n",
       "    <tr>\n",
       "      <th>99</th>\n",
       "      <td>0.000000</td>\n",
       "      <td>25.000000</td>\n",
       "    </tr>\n",
       "  </tbody>\n",
       "</table>\n",
       "<p>300 rows × 2 columns</p>\n",
       "</div>"
      ],
      "text/plain": [
       "            y           x\n",
       "0    0.000000 -130.000000\n",
       "1    9.476918 -129.141414\n",
       "2   13.357760 -128.282828\n",
       "3   16.305009 -127.424242\n",
       "4   18.763865 -126.565657\n",
       "..        ...         ...\n",
       "95  11.582736   23.989899\n",
       "96  10.051520   24.242424\n",
       "97   8.223798   24.494949\n",
       "98   5.826935   24.747475\n",
       "99   0.000000   25.000000\n",
       "\n",
       "[300 rows x 2 columns]"
      ]
     },
     "execution_count": 138,
     "metadata": {},
     "output_type": "execute_result"
    }
   ],
   "source": [
    "import plotly.express as px\n",
    "import pandas as pd\n",
    "\n",
    "yx1 = {\"y\":y1, \"x\":x1}\n",
    "df_yx1 = pd.DataFrame(yx1)\n",
    "\n",
    "yx2 = {\"y\":y2, \"x\":x2}\n",
    "df_yx2 = pd.DataFrame(yx2)\n",
    "\n",
    "yx3 = {\"y\":y3, \"x\":x3}\n",
    "df_yx3 = pd.DataFrame(yx3)\n",
    "\n",
    "df_yx = pd.concat([df_yx3, df_yx2, df_yx1])\n",
    "\n",
    "#df.columns = ['Bruchlinie']\n",
    "#df['counter'] = range(len(df))\n",
    "\n",
    "                  \n",
    "fig = px.line(df_yx, x = \"x\", y = \"y\", title = \"Pucksches Bruchkriterium\")\n",
    "fig.show()\n",
    "\n",
    "df_yx"
   ]
  },
  {
   "cell_type": "code",
   "execution_count": null,
   "id": "1bf0bae0-8940-4ec8-b60b-67a2d0612450",
   "metadata": {},
   "outputs": [],
   "source": []
  }
 ],
 "metadata": {
  "interpreter": {
   "hash": "aee8b7b246df8f9039afb4144a1f6fd8d2ca17a180786b69acc140d282b71a49"
  },
  "kernelspec": {
   "display_name": "Python 3 (ipykernel)",
   "language": "python",
   "name": "python3"
  },
  "language_info": {
   "codemirror_mode": {
    "name": "ipython",
    "version": 3
   },
   "file_extension": ".py",
   "mimetype": "text/x-python",
   "name": "python",
   "nbconvert_exporter": "python",
   "pygments_lexer": "ipython3",
   "version": "3.8.2"
  }
 },
 "nbformat": 4,
 "nbformat_minor": 5
}
