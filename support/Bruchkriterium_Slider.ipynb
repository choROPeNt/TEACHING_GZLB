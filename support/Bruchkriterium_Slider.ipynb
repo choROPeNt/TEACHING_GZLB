{
 "cells": [
  {
   "cell_type": "code",
   "execution_count": 1,
   "id": "a9ab8330",
   "metadata": {},
   "outputs": [],
   "source": [
    "import numpy as np\n",
    "import matplotlib.pyplot as plt"
   ]
  },
  {
   "cell_type": "markdown",
   "id": "79a8504c",
   "metadata": {},
   "source": [
    "#### Initialisierung der Festigkeitsparameter: R_2(+) Zugfestigkeit, R_2(-) Druckfestigkeit und R12 (Schubfestigkeit)\n",
    "\n",
    "#### Initialisierung der Interaktionsparameter: p12(+) und p12(-)\n",
    "\n",
    "#### Initialisiere x-Achsenabschnitt für Bruchmodus A\n",
    "\n",
    "#### Berechne Bruchmodus A\n",
    "\n",
    "#### Initialisiere x-Achsenabschnitt für Bruchmodus B\n",
    "\n",
    "#### Berechne Bruchmodus B\n",
    "\n",
    "#### Initialisiere x-Achsenabschnitt für Bruchmodus C\n",
    "\n",
    "#### Berechne Bruchmodus C"
   ]
  },
  {
   "cell_type": "markdown",
   "id": "5c29c607",
   "metadata": {},
   "source": [
    "### Bruchmodus A:  "
   ]
  },
  {
   "cell_type": "markdown",
   "id": "6e2e15fb",
   "metadata": {},
   "source": [
    "$$\n",
    "\\sqrt{\\left(\\frac{\\tau_{12}}{R_{12}}\\right)^{2}+\\left(1-p_{12}^{+} \\frac{R_{2}^{+}}{R_{12}}\\right)^{2} \\cdot\\left(\\frac{\\sigma_{2}}{R_{2}^{+}}\\right)^{2}}+p_{12}^{+} \\cdot \\frac{\\sigma_{2}}{R_{12}}=1\n",
    "$$"
   ]
  },
  {
   "cell_type": "markdown",
   "id": "9c0fb421",
   "metadata": {},
   "source": [
    "### Bruchmodus B:  "
   ]
  },
  {
   "cell_type": "markdown",
   "id": "261ec220",
   "metadata": {},
   "source": [
    "$$\n",
    "\\frac{1}{R_{12}} \\left (\\sqrt{\\tau_{12}{ }^{2}+\\left(p_{12}^{-} \\cdot \\sigma_{2}\\right)^{2}}+p_{12}^{-} \\cdot \\sigma_{2} \\right )=1\n",
    "$$"
   ]
  },
  {
   "cell_type": "markdown",
   "id": "13b6b3ef",
   "metadata": {},
   "source": [
    "### Bruchmodus C:  "
   ]
  },
  {
   "cell_type": "markdown",
   "id": "f25b4b49",
   "metadata": {},
   "source": [
    "$$ \\left [ \\left ( \\frac{\\tau_{21}}{2 \\left (1 + p_{21}^{-} \\right )R_{21}} \\right )^2 + \\left ( \\frac {\\sigma_{2}}{R_{2}^{-}} \\right )^2 \\right ] \\frac{R_{2}^{-}}{\\left ( -\\sigma_{2}\\right )} = 1 $$"
   ]
  },
  {
   "cell_type": "markdown",
   "id": "07541a3f",
   "metadata": {},
   "source": [
    "#### Erstelle Plots:"
   ]
  },
  {
   "cell_type": "code",
   "execution_count": 2,
   "id": "a790b454",
   "metadata": {},
   "outputs": [
    {
     "data": {
      "application/vnd.jupyter.widget-view+json": {
       "model_id": "dee4e936955141b78dd4c7468724b44a",
       "version_major": 2,
       "version_minor": 0
      },
      "text/plain": [
       "interactive(children=(IntSlider(value=22, description='R2P', max=25, min=20), IntSlider(value=125, description…"
      ]
     },
     "metadata": {},
     "output_type": "display_data"
    }
   ],
   "source": [
    "import plotly.graph_objects as go\n",
    "import numpy as np\n",
    "from ipywidgets import interact\n",
    "\n",
    "P12P = P12M = 0.3\n",
    "\n",
    "fig = go.FigureWidget()\n",
    "\n",
    "@interact(R2P = (20, 25, 1), R2M = (120, 130, 1), R12 = (40, 50, 1))\n",
    "def update(R2P, R2M, R12):\n",
    "\n",
    "    with fig.batch_update():   \n",
    "        \n",
    "        RA = (R12 / (2 * P12M)) * (np.sqrt(1 + 2 * P12M * (R2M / R12)) - 1)\n",
    "        T21C = R12 * np.sqrt(1 + 2 * P12M)\n",
    "\n",
    "        x1 = np.linspace(0, R2P, 100)\n",
    "        y1 = R12 * np.sqrt((1 - P12P * x1 / R12)**2 - (1 - P12P * R2P / R12)**2 * (x1 / R2P)**2)\n",
    "\n",
    "        x2 = np.linspace(-RA, 0, 100)\n",
    "        y2 = (R12 * np.sqrt(1 - (2 * P12M * x2 / R12)))\n",
    "\n",
    "        x3 = np.linspace(-R2M, -RA, 100)\n",
    "        y3 = (2 * R12 * (1 + P12M) * np.sqrt((-x3 / R2M) - (x3 / R2M)**2 ))\n",
    "        \n",
    "        fig.add_trace(go.Scatter(x=x1, y=y1,\n",
    "            mode='lines',\n",
    "            name='Bruchkriterium A_Neu'))\n",
    "        fig.add_trace(go.Scatter(x=x2, y=y2,\n",
    "            mode='lines',\n",
    "            name='Bruchkriterium B_Neu'))\n",
    "        fig.add_trace(go.Scatter(x=x3, y=y3,\n",
    "            mode='lines',\n",
    "            name='Bruchkriterium C_Neu'))\n",
    "        \n",
    "        \n",
    "    return fig\n",
    "        "
   ]
  },
  {
   "cell_type": "code",
   "execution_count": 20,
   "id": "a8cd3716",
   "metadata": {},
   "outputs": [
    {
     "data": {
      "application/vnd.jupyter.widget-view+json": {
       "model_id": "315f67998b074141936119e5d5bca8a0",
       "version_major": 2,
       "version_minor": 0
      },
      "text/plain": [
       "interactive(children=(IntSlider(value=22, description='R2P', max=25, min=20), IntSlider(value=125, description…"
      ]
     },
     "metadata": {},
     "output_type": "display_data"
    }
   ],
   "source": [
    "\"\"\"\n",
    "Tau21 = y\n",
    "Sigma2 = x\n",
    "\n",
    "uniaxiale Basisfestigkeiten:\n",
    "R2P\n",
    "R2M\n",
    "R12\n",
    "\n",
    "\"\"\"\n",
    "\n",
    "import plotly.graph_objects as go\n",
    "import numpy as np\n",
    "from ipywidgets import interact\n",
    "\n",
    "@interact(R2P = (20, 25, 1), R2M = (120, 130, 1), R12 = (40, 50, 1), P12P = (0.2, 0.3, 0.01))\n",
    "def update(R2P, R2M, R12, P12P):\n",
    "    fig = go.FigureWidget()\n",
    "    fig.update_layout(title='Bruchkurve nach Puck', yaxis_range=[0,70], xaxis_range=[-135,30])\n",
    "    with fig.batch_update():\n",
    "        \n",
    "        P12M = P12P\n",
    "        \n",
    "        RA = (R12 / (2 * P12M)) * (np.sqrt(1 + 2 * P12M * (R2M / R12)) - 1)\n",
    "        T21C = R12 * np.sqrt(1 + 2 * P12M)\n",
    "        #print(RA/T21C)\n",
    "\n",
    "        x1 = np.linspace(0, R2P, 100)\n",
    "        y1 = R12 * np.sqrt((1 - P12P * x1 / R12)**2 - (1 - P12P * (R2P / R12))**2 * (x1 / R2P)**2)\n",
    "\n",
    "        x2 = np.linspace(-RA, 0, 100)\n",
    "        y2 = (R12 * np.sqrt(1 - (2 * P12M * x2 / R12)))\n",
    "\n",
    "        x3 = np.linspace(-R2M, -RA, 100)\n",
    "        y3 = (2 * R12 * (1 + P12M) * np.sqrt((-x3 / R2M) - (x3 / R2M)**2 ))\n",
    "        \n",
    "        fig.add_trace(go.Scatter(x=x1, y=y1,\n",
    "            mode='lines',\n",
    "            name='Bruchkriterium A_Neu'))\n",
    "        fig.add_trace(go.Scatter(x=x2, y=y2,\n",
    "            mode='lines',\n",
    "            name='Bruchkriterium B_Neu'))\n",
    "        fig.add_trace(go.Scatter(x=x3, y=y3,\n",
    "            mode='lines',\n",
    "            name='Bruchkriterium C_Neu'))\n",
    "        \n",
    "    return fig\n",
    "        \n"
   ]
  }
 ],
 "metadata": {
  "interpreter": {
   "hash": "aee8b7b246df8f9039afb4144a1f6fd8d2ca17a180786b69acc140d282b71a49"
  },
  "kernelspec": {
   "display_name": "Python 3 (ipykernel)",
   "language": "python",
   "name": "python3"
  },
  "language_info": {
   "codemirror_mode": {
    "name": "ipython",
    "version": 3
   },
   "file_extension": ".py",
   "mimetype": "text/x-python",
   "name": "python",
   "nbconvert_exporter": "python",
   "pygments_lexer": "ipython3",
   "version": "3.8.2"
  }
 },
 "nbformat": 4,
 "nbformat_minor": 5
}
