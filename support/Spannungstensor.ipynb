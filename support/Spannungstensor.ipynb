{
 "cells": [
  {
   "cell_type": "code",
   "execution_count": 1,
   "source": [
    "import matplotlib\n",
    "import numpy as np\n",
    "import matplotlib.pyplot as plt"
   ],
   "outputs": [],
   "metadata": {}
  },
  {
   "cell_type": "markdown",
   "source": [
    "### Initialisiere Spannnungstensor:"
   ],
   "metadata": {}
  },
  {
   "cell_type": "code",
   "execution_count": 2,
   "source": [
    "x = 130\n",
    "xy = -40\n",
    "\n",
    "y = -40\n",
    "yx = 70\n",
    "\n",
    "matrix = np.array([[x, xy],[y, yx]])\n",
    "print(matrix)"
   ],
   "outputs": [
    {
     "output_type": "stream",
     "name": "stdout",
     "text": [
      "[[130 -40]\n",
      " [-40  70]]\n"
     ]
    }
   ],
   "metadata": {}
  },
  {
   "cell_type": "markdown",
   "source": [
    "#### Berechne Deterinante, Eigenvektoren und Eigenwerte:"
   ],
   "metadata": {}
  },
  {
   "cell_type": "code",
   "execution_count": 3,
   "source": [
    "det = np.linalg.det(matrix)\n",
    "print(det)\n",
    "\n",
    "eig_vals, eig_vecs = np.linalg.eig(np.array([[x,xy],[y,yx]]))\n",
    "print(eig_vecs)\n",
    "print(eig_vals)"
   ],
   "outputs": [
    {
     "output_type": "stream",
     "name": "stdout",
     "text": [
      "7500.000000000001\n",
      "[[ 0.89442719  0.4472136 ]\n",
      " [-0.4472136   0.89442719]]\n",
      "[150.  50.]\n"
     ]
    }
   ],
   "metadata": {}
  },
  {
   "cell_type": "markdown",
   "source": [
    "### Initialisiere dA und stelle dA graphisch da:"
   ],
   "metadata": {}
  },
  {
   "cell_type": "code",
   "execution_count": 4,
   "source": [
    "rectangle = np.array([[0, 0],[10, 10]])\n",
    "rectangle2 = np.array([[0, 0],[-10, -10]])\n",
    "rectangle3 = np.array([[0, 0],[-10, 10]])\n",
    "rectangle4 = np.array([[0, 0],[10, -10]])\n",
    "\n",
    "fig1 = plt.figure()\n",
    "ax = fig1.add_subplot()\n",
    "\n",
    "rect = matplotlib.patches.Rectangle((rectangle[0][0], rectangle[0][1]), rectangle[1][0], rectangle[1][1], color = \"grey\")\n",
    "rect2 = matplotlib.patches.Rectangle((rectangle2[0][0], rectangle2[0][1]), rectangle2[1][0], rectangle2[1][1], color = \"black\")\n",
    "rect3 = matplotlib.patches.Rectangle((rectangle3[0][0], rectangle3[0][1]), rectangle3[1][0], rectangle3[1][1], color = \"grey\")\n",
    "rect4 = matplotlib.patches.Rectangle((rectangle4[0][0], rectangle4[0][1]), rectangle4[1][0], rectangle4[1][1], color = \"black\")\n",
    "\n",
    "ax.add_patch(rect)\n",
    "ax.add_patch(rect2)\n",
    "ax.add_patch(rect3)\n",
    "ax.add_patch(rect4)\n",
    "\n",
    "plt.xlim([-20, 20])\n",
    "plt.ylim([-20, 20])\n",
    "\n",
    "plt.show()"
   ],
   "outputs": [
    {
     "output_type": "display_data",
     "data": {
      "image/png": "[encoded data removed]",
      "text/plain": [
       "<Figure size 432x288 with 1 Axes>"
      ]
     },
     "metadata": {
      "needs_background": "light"
     }
    }
   ],
   "metadata": {}
  },
  {
   "cell_type": "markdown",
   "source": [
    "#### Berechne Winkel:"
   ],
   "metadata": {}
  },
  {
   "cell_type": "code",
   "execution_count": 5,
   "source": [
    "dot_product = np.dot(eig_vecs[0], eig_vecs[1])\n",
    "\n",
    "angle_vec_rad = np.arccos(dot_product)\n",
    "angle_vec_dee = np.degrees(np.arccos(dot_product))\n",
    "\n",
    "print(angle_vec_rad)\n",
    "print(angle_vec_dee)"
   ],
   "outputs": [
    {
     "output_type": "stream",
     "name": "stdout",
     "text": [
      "1.5707963267948966\n",
      "90.0\n"
     ]
    }
   ],
   "metadata": {}
  },
  {
   "cell_type": "markdown",
   "source": [
    "### Plotte mit neuem Winkel:"
   ],
   "metadata": {}
  },
  {
   "cell_type": "code",
   "execution_count": 6,
   "source": [
    "fig2 = plt.figure()\n",
    "ax = fig2.add_subplot()\n",
    "\n",
    "rect = matplotlib.patches.Rectangle((rectangle[0][0], rectangle[0][1]), rectangle[1][0], rectangle[1][1], color = \"grey\", angle = -angle_vec_dee)\n",
    "rect2 = matplotlib.patches.Rectangle((rectangle2[0][0], rectangle2[0][1]), rectangle2[1][0], rectangle2[1][1], color = \"black\", angle = -angle_vec_dee)\n",
    "rect3 = matplotlib.patches.Rectangle((rectangle3[0][0], rectangle3[0][1]), rectangle3[1][0], rectangle3[1][1], color = \"grey\", angle = -angle_vec_dee)\n",
    "rect4 = matplotlib.patches.Rectangle((rectangle4[0][0], rectangle4[0][1]), rectangle4[1][0], rectangle4[1][1], color = \"black\", angle = -angle_vec_dee)\n",
    "\n",
    "ax.add_patch(rect)\n",
    "ax.add_patch(rect2)\n",
    "ax.add_patch(rect3)\n",
    "ax.add_patch(rect4)\n",
    "\n",
    "plt.xlim([-20, 20])\n",
    "plt.ylim([-20, 20])\n",
    "\n",
    "plt.show()"
   ],
   "outputs": [
    {
     "output_type": "display_data",
     "data": {
      "image/png": "[encoded data removed]",
      "text/plain": [
       "<Figure size 432x288 with 1 Axes>"
      ]
     },
     "metadata": {
      "needs_background": "light"
     }
    }
   ],
   "metadata": {}
  },
  {
   "cell_type": "markdown",
   "source": [
    "### Berechne und stelle resultierenden Vektor da:"
   ],
   "metadata": {}
  },
  {
   "cell_type": "code",
   "execution_count": 7,
   "source": [
    "soa = np.array([[0, 0, \n",
    "                 eig_vals[0] * eig_vecs[0][0], \n",
    "                 eig_vals[0] * eig_vecs[1][0]]])\n",
    "\n",
    "soa1 = np.array([[0, 0, \n",
    "                  eig_vals[1] * eig_vecs[0][1], \n",
    "                  eig_vals[1] * eig_vecs[1][1]]])\n",
    "\n",
    "X, Y, U, V = zip(*soa)\n",
    "X1, Y1, U1, V1 = zip(*soa1)\n",
    "\n",
    "plt.quiver(X, Y, U, V, angles='xy', scale_units='xy', scale=1)\n",
    "plt.quiver(X1, Y1, U1, V1, angles='xy', scale_units='xy', scale=1)\n",
    "plt.xlim([-150, 150])\n",
    "plt.ylim([-150, 150])\n",
    "plt.show()"
   ],
   "outputs": [
    {
     "output_type": "display_data",
     "data": {
      "image/png": "[encoded data removed]",
      "text/plain": [
       "<Figure size 432x288 with 1 Axes>"
      ]
     },
     "metadata": {
      "needs_background": "light"
     }
    }
   ],
   "metadata": {}
  },
  {
   "cell_type": "code",
   "execution_count": null,
   "source": [],
   "outputs": [],
   "metadata": {}
  }
 ],
 "metadata": {
  "kernelspec": {
   "name": "python3",
   "display_name": "Python 3.9.6 64-bit"
  },
  "language_info": {
   "codemirror_mode": {
    "name": "ipython",
    "version": 3
   },
   "file_extension": ".py",
   "mimetype": "text/x-python",
   "name": "python",
   "nbconvert_exporter": "python",
   "pygments_lexer": "ipython3",
   "version": "3.9.6"
  },
  "interpreter": {
   "hash": "aee8b7b246df8f9039afb4144a1f6fd8d2ca17a180786b69acc140d282b71a49"
  }
 },
 "nbformat": 4,
 "nbformat_minor": 5
}